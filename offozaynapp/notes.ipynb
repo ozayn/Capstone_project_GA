{
 "cells": [
  {
   "cell_type": "markdown",
   "id": "1287a76b-2787-473f-986a-578cd972c1e0",
   "metadata": {},
   "source": [
    "```\n",
    "streamlit run your_script.py [-- script args]\n",
    "```"
   ]
  },
  {
   "cell_type": "raw",
   "id": "8bd1e2af-c673-498e-892e-8e0b5503465b",
   "metadata": {},
   "source": [
    "!streamlit run https://raw.githubusercontent.com/streamlit/demo-uber-nyc-pickups/master/streamlit_app.py"
   ]
  },
  {
   "cell_type": "code",
   "execution_count": 52,
   "id": "35e24b57-e75d-43f2-8b4e-83ac003015da",
   "metadata": {},
   "outputs": [
    {
     "name": "stdout",
     "output_type": "stream",
     "text": [
      "Overwriting offozaynapp/main.py\n"
     ]
    }
   ],
   "source": [
    "%%writefile offozaynapp/main.py\n",
    "\n",
    "import streamlit as st\n",
    "import pandas as pd\n",
    "import numpy as np\n",
    "\n",
    "st.title('Offshore Leaks')\n",
    "\n",
    "\n",
    "DATE_COLUMN = 'date/time'\n",
    "DATA_URL = ('https://s3-us-west-2.amazonaws.com/'\n",
    "         'streamlit-demo-data/uber-raw-data-sep14.csv.gz')\n",
    "\n",
    "@st.cache\n",
    "def load_data(nrows):\n",
    "    data = pd.read_csv(DATA_URL, nrows=nrows)\n",
    "    lowercase = lambda x: str(x).lower()\n",
    "    data.rename(lowercase, axis='columns', inplace=True)\n",
    "    data[DATE_COLUMN] = pd.to_datetime(data[DATE_COLUMN])\n",
    "    return data\n",
    "\n",
    "\n",
    "# Create a text element and let the reader know the data is loading.\n",
    "data_load_state = st.text('Loading data...')\n",
    "# Load 10,000 rows of data into the dataframe.\n",
    "data = load_data(10000)\n",
    "# Notify the reader that the data was successfully loaded.\n",
    "#data_load_state.text('Loading data...done!')\n",
    "data_load_state.text(\"Done! (using st.cache)\")\n",
    "\n",
    "if st.checkbox('Show raw data'):\n",
    "    st.subheader('Raw data')\n",
    "    st.write(data.head())\n",
    "\n",
    "st.subheader('Number of pickups by hour')\n",
    "\n",
    "hist_values = np.histogram(\n",
    "    data[DATE_COLUMN].dt.hour, bins=24, range=(0,24))[0]\n",
    "\n",
    "st.write(hist_values)\n",
    "\n",
    "st.bar_chart(hist_values)\n",
    "\n",
    "st.subheader('Map of all pickups')\n",
    "\n",
    "st.map(data)\n",
    "\n",
    "hour_to_filter = 17\n",
    "filtered_data = data[data[DATE_COLUMN].dt.hour == hour_to_filter]\n",
    "st.subheader(f'Map of all pickups at {hour_to_filter}:00')\n",
    "st.map(filtered_data)\n",
    "\n",
    "hour_to_filter = st.slider('hour', 0, 23, 17)  # min: 0h, max: 23h, default: 17h"
   ]
  },
  {
   "cell_type": "code",
   "execution_count": 44,
   "id": "6d3c4c4c-080c-4425-8abb-1e1383f15da4",
   "metadata": {},
   "outputs": [
    {
     "name": "stdout",
     "output_type": "stream",
     "text": [
      "Overwriting offozaynapp/config.py\n"
     ]
    }
   ],
   "source": [
    "%%writefile offozaynapp/config.py\n",
    "\n",
    "sheet_url = 'https://docs.google.com/spreadsheets/d/10qMx2LXQkjOMX_lB2LHWVi8OzI_-HaN0/edit?usp=sharing&ouid=111709418728007906825&rtpof=true&sd=true'\n",
    "\n",
    "lat_lon_url = 'https://drive.google.com/file/d/10l-06L2waxvG6pKbCwuX1wtPtrPjgPO4/view?usp=sharing'"
   ]
  },
  {
   "cell_type": "code",
   "execution_count": 4,
   "id": "1dfb5b6a-58f4-4f98-a655-21f471ede5fa",
   "metadata": {},
   "outputs": [
    {
     "name": "stdout",
     "output_type": "stream",
     "text": [
      "Writing __init__.py\n"
     ]
    }
   ],
   "source": [
    "%%writefile __init__.py\n",
    "\n",
    "\n"
   ]
  },
  {
   "cell_type": "code",
   "execution_count": 78,
   "id": "ff038b38-2b08-454f-96a5-e394b168bd06",
   "metadata": {},
   "outputs": [
    {
     "name": "stdout",
     "output_type": "stream",
     "text": [
      "Overwriting offozaynapp/tools.py\n"
     ]
    }
   ],
   "source": [
    "%%writefile offozaynapp/tools.py\n",
    "\n",
    "import config\n",
    "import streamlit as st\n",
    "import graphviz as graphviz\n",
    "import pandas as pd\n",
    "import networkx as nx\n",
    "from PIL import Image\n",
    "import platform\n",
    "\n",
    "# Taken with modification from\n",
    "# https://newbedev.com/pandas-how-to-read-csv-file-from-google-drive-public\"\"\"\n",
    "get_url = lambda u: 'https://drive.google.com/uc?export=download&id=' + u.split('/')[-2]\n",
    "    \n",
    "\n",
    "def check_platform():\n",
    "    pl = platform.platform()\n",
    "    if pl.startswith('macOS'):\n",
    "        return 'local'\n",
    "    return 'remote'\n",
    "    \n",
    "    \n",
    "@st.cache\n",
    "def load_data(url, nrows):\n",
    "    data = pd.read_csv(get_url(url), nrows=nrows) \n",
    "    return data\n",
    "\n",
    "@st.cache\n",
    "def load_lat_lon(nrows):\n",
    "    if check_platform()=='remote':\n",
    "        return pd.read_csv(get_url(config.lat_lon_url), nrows=nrows) \n",
    "    else:\n",
    "        return pd.read_csv('./data/nodes_lat_lon.csv', nrows=nrows) \n",
    "\n",
    "\n",
    "@st.cache(suppress_st_warning=True)\n",
    "def read_xlsx(sheet, nrows=10000):\n",
    "    if check_platform()=='remote':\n",
    "        return pd.read_excel(get_url(config.sheet_url), sheet_name=sheet, nrows=nrows)\n",
    "    else:\n",
    "        return pd.read_excel('./data/specific_edges.xlsx', sheet_name=sheet, nrows=nrows)\n",
    "\n",
    "\n",
    "def create_digraph_new(df, count=10):   \n",
    "    \"\"\"\n",
    "    https://discuss.streamlit.io/t/support-for-networkx-pyvis-and-folium/190/2\n",
    "    \"\"\"\n",
    "    final_count = min(df.shape[0], count)\n",
    "    df.sort_values(by='weight', ascending=False, inplace=True)\n",
    "    G = nx.DiGraph()\n",
    "    G.add_weighted_edges_from([tuple(x) for x in df.head(final_count).values])\n",
    "    dot = nx.nx_pydot.to_pydot(G)\n",
    "    st.graphviz_chart(dot.to_string())\n",
    "    \n",
    "def show_image(name, caption):\n",
    "    image = Image.open(f'images/{name}')\n",
    "    st.image(image, caption=caption)\n",
    "\n",
    "    "
   ]
  },
  {
   "cell_type": "code",
   "execution_count": 2,
   "id": "e2b6a00c-0cfd-4111-a267-b2c65b672de4",
   "metadata": {},
   "outputs": [
    {
     "name": "stdout",
     "output_type": "stream",
     "text": [
      "Overwriting offozaynapp/main.py\n"
     ]
    }
   ],
   "source": [
    "%%writefile offozaynapp/main.py\n",
    "\n",
    "import tools\n",
    "import streamlit as st\n",
    "import pandas as pd\n",
    "import numpy as np\n",
    "import platform\n",
    "\n",
    "st.set_page_config(page_title=\"Offshore Leaks Exploration\")\n",
    "\n",
    "\n",
    "st.title('Offshore Leaks')\n",
    "\n",
    "#st.write(platform.platform())\n",
    "\n",
    "select_list = ['', 'jurisdiction', 'countries', 'country_codes', 'continents', 'company_type', 'jurisdiction_description', 'table']\n",
    "select_dict = {k.replace('_', ' ').title(): k for k in select_list}\n",
    "\n",
    "\n",
    "select_key = st.sidebar.selectbox(\n",
    "    \"Which field would you like to explore?\",\n",
    "    tuple(select_dict.keys())\n",
    ")\n",
    "\n",
    "select_value = select_dict[select_key]\n",
    "\n",
    "if select_value:\n",
    "    st.write(select_value)\n",
    "    \n",
    "    if select_value == 'countries':\n",
    "        tools.show_image('top_25_countries__address__intermediary__officer__entity.png', 'Countries')\n",
    "\n",
    "\n",
    "\n",
    "    data = tools.read_xlsx(select_value)\n",
    "    st.subheader('Raw data')\n",
    "    st.write(data.head())\n",
    "\n",
    "\n",
    "    if st.checkbox('Show raw data'):\n",
    "        st.subheader(f'{select_key} Source')\n",
    "        hist_values = data[f'{select_value}_source'].value_counts().sort_values(ascending=False)\n",
    "        n_columns = st.slider('How many columns?', 0, hist_values.shape[0], min(15, hist_values.shape[0]))\n",
    "        st.bar_chart(hist_values.head(n_columns))\n",
    "        st.write(hist_values)\n",
    "\n",
    "\n",
    "    n_edges = st.slider('How many edges?', 0, data.shape[0], min(100, data.shape[0]))\n",
    "    tools.create_digraph_new(data, n_edges)\n",
    "    \n",
    "if st.checkbox('Show Latitude & Longitude data'):\n",
    "    lat_lon_data = tools.load_lat_lon(10000)\n",
    "    st.subheader('Raw data')\n",
    "    st.write(lat_lon_data.head())\n",
    "    st.map(lat_lon_data)"
   ]
  },
  {
   "cell_type": "code",
   "execution_count": 66,
   "id": "1aa5ea75-a891-4342-aa61-8ae95f2cf972",
   "metadata": {},
   "outputs": [
    {
     "name": "stdout",
     "output_type": "stream",
     "text": [
      "Overwriting offozaynapp/requirements.txt\n"
     ]
    }
   ],
   "source": [
    "%%writefile offozaynapp/requirements.txt\n",
    "\n",
    "graphviz\n",
    "pydot\n",
    "openpyxl\n",
    "networkx"
   ]
  },
  {
   "cell_type": "code",
   "execution_count": null,
   "id": "f01cd883-c505-4be5-957f-79ec2571a01b",
   "metadata": {},
   "outputs": [],
   "source": [
    "!pip install graphivz"
   ]
  },
  {
   "cell_type": "code",
   "execution_count": 59,
   "id": "23d0038f-ed57-426f-96f0-57cf2f453b15",
   "metadata": {},
   "outputs": [],
   "source": [
    "import pandas as pd\n",
    "\n",
    "\n",
    "orig_url = 'https://docs.google.com/spreadsheets/d/10qMx2LXQkjOMX_lB2LHWVi8OzI_-HaN0/edit?usp=sharing&ouid=111709418728007906825&rtpof=true&sd=true'\n",
    "file_id = orig_url.split('/')[-2]\n",
    "dwn_url='https://drive.google.com/uc?export=download&id=' + file_id\n",
    "\n",
    "\n",
    "xls = pd.ExcelFile(dwn_url)\n",
    "df1 = pd.read_excel(xls, 'jurisdiction')\n"
   ]
  },
  {
   "cell_type": "code",
   "execution_count": 60,
   "id": "c9bf1cb2-0c61-426b-bd5f-7029d71560c3",
   "metadata": {},
   "outputs": [
    {
     "data": {
      "text/html": [
       "<div>\n",
       "<style scoped>\n",
       "    .dataframe tbody tr th:only-of-type {\n",
       "        vertical-align: middle;\n",
       "    }\n",
       "\n",
       "    .dataframe tbody tr th {\n",
       "        vertical-align: top;\n",
       "    }\n",
       "\n",
       "    .dataframe thead th {\n",
       "        text-align: right;\n",
       "    }\n",
       "</style>\n",
       "<table border=\"1\" class=\"dataframe\">\n",
       "  <thead>\n",
       "    <tr style=\"text-align: right;\">\n",
       "      <th></th>\n",
       "      <th>jurisdiction_source</th>\n",
       "      <th>jurisdiction_target</th>\n",
       "      <th>weight</th>\n",
       "    </tr>\n",
       "  </thead>\n",
       "  <tbody>\n",
       "    <tr>\n",
       "      <th>0</th>\n",
       "      <td>BERMU</td>\n",
       "      <td>XXX</td>\n",
       "      <td>1</td>\n",
       "    </tr>\n",
       "    <tr>\n",
       "      <th>1</th>\n",
       "      <td>BVI</td>\n",
       "      <td>BVI</td>\n",
       "      <td>156</td>\n",
       "    </tr>\n",
       "    <tr>\n",
       "      <th>2</th>\n",
       "      <td>BVI</td>\n",
       "      <td>COOK</td>\n",
       "      <td>10</td>\n",
       "    </tr>\n",
       "    <tr>\n",
       "      <th>3</th>\n",
       "      <td>BVI</td>\n",
       "      <td>LABUA</td>\n",
       "      <td>5</td>\n",
       "    </tr>\n",
       "    <tr>\n",
       "      <th>4</th>\n",
       "      <td>BVI</td>\n",
       "      <td>MALAY</td>\n",
       "      <td>4</td>\n",
       "    </tr>\n",
       "    <tr>\n",
       "      <th>5</th>\n",
       "      <td>BVI</td>\n",
       "      <td>MAURI</td>\n",
       "      <td>2</td>\n",
       "    </tr>\n",
       "    <tr>\n",
       "      <th>6</th>\n",
       "      <td>BVI</td>\n",
       "      <td>SGP</td>\n",
       "      <td>9</td>\n",
       "    </tr>\n",
       "    <tr>\n",
       "      <th>7</th>\n",
       "      <td>CAYMN</td>\n",
       "      <td>XXX</td>\n",
       "      <td>84</td>\n",
       "    </tr>\n",
       "    <tr>\n",
       "      <th>8</th>\n",
       "      <td>COOK</td>\n",
       "      <td>BVI</td>\n",
       "      <td>10</td>\n",
       "    </tr>\n",
       "    <tr>\n",
       "      <th>9</th>\n",
       "      <td>COOK</td>\n",
       "      <td>COOK</td>\n",
       "      <td>201</td>\n",
       "    </tr>\n",
       "    <tr>\n",
       "      <th>10</th>\n",
       "      <td>COOK</td>\n",
       "      <td>HK</td>\n",
       "      <td>1</td>\n",
       "    </tr>\n",
       "    <tr>\n",
       "      <th>11</th>\n",
       "      <td>COOK</td>\n",
       "      <td>SAM</td>\n",
       "      <td>3</td>\n",
       "    </tr>\n",
       "    <tr>\n",
       "      <th>12</th>\n",
       "      <td>COOK</td>\n",
       "      <td>SGP</td>\n",
       "      <td>1</td>\n",
       "    </tr>\n",
       "    <tr>\n",
       "      <th>13</th>\n",
       "      <td>HK</td>\n",
       "      <td>COOK</td>\n",
       "      <td>1</td>\n",
       "    </tr>\n",
       "    <tr>\n",
       "      <th>14</th>\n",
       "      <td>LABUA</td>\n",
       "      <td>BVI</td>\n",
       "      <td>5</td>\n",
       "    </tr>\n",
       "    <tr>\n",
       "      <th>15</th>\n",
       "      <td>MALAY</td>\n",
       "      <td>BVI</td>\n",
       "      <td>4</td>\n",
       "    </tr>\n",
       "    <tr>\n",
       "      <th>16</th>\n",
       "      <td>MAURI</td>\n",
       "      <td>BVI</td>\n",
       "      <td>2</td>\n",
       "    </tr>\n",
       "    <tr>\n",
       "      <th>17</th>\n",
       "      <td>SAM</td>\n",
       "      <td>COOK</td>\n",
       "      <td>3</td>\n",
       "    </tr>\n",
       "    <tr>\n",
       "      <th>18</th>\n",
       "      <td>SAM</td>\n",
       "      <td>SAM</td>\n",
       "      <td>4</td>\n",
       "    </tr>\n",
       "    <tr>\n",
       "      <th>19</th>\n",
       "      <td>SAM</td>\n",
       "      <td>SGP</td>\n",
       "      <td>4</td>\n",
       "    </tr>\n",
       "    <tr>\n",
       "      <th>20</th>\n",
       "      <td>SAM</td>\n",
       "      <td>XXX</td>\n",
       "      <td>1</td>\n",
       "    </tr>\n",
       "    <tr>\n",
       "      <th>21</th>\n",
       "      <td>SGP</td>\n",
       "      <td>BVI</td>\n",
       "      <td>9</td>\n",
       "    </tr>\n",
       "    <tr>\n",
       "      <th>22</th>\n",
       "      <td>SGP</td>\n",
       "      <td>COOK</td>\n",
       "      <td>1</td>\n",
       "    </tr>\n",
       "    <tr>\n",
       "      <th>23</th>\n",
       "      <td>SGP</td>\n",
       "      <td>SAM</td>\n",
       "      <td>4</td>\n",
       "    </tr>\n",
       "    <tr>\n",
       "      <th>24</th>\n",
       "      <td>SGP</td>\n",
       "      <td>SGP</td>\n",
       "      <td>10</td>\n",
       "    </tr>\n",
       "    <tr>\n",
       "      <th>25</th>\n",
       "      <td>STLU</td>\n",
       "      <td>BVI</td>\n",
       "      <td>1</td>\n",
       "    </tr>\n",
       "    <tr>\n",
       "      <th>26</th>\n",
       "      <td>XXX</td>\n",
       "      <td>BERMU</td>\n",
       "      <td>1</td>\n",
       "    </tr>\n",
       "    <tr>\n",
       "      <th>27</th>\n",
       "      <td>XXX</td>\n",
       "      <td>CAYMN</td>\n",
       "      <td>84</td>\n",
       "    </tr>\n",
       "    <tr>\n",
       "      <th>28</th>\n",
       "      <td>XXX</td>\n",
       "      <td>SAM</td>\n",
       "      <td>1</td>\n",
       "    </tr>\n",
       "  </tbody>\n",
       "</table>\n",
       "</div>"
      ],
      "text/plain": [
       "   jurisdiction_source jurisdiction_target  weight\n",
       "0                BERMU                 XXX       1\n",
       "1                  BVI                 BVI     156\n",
       "2                  BVI                COOK      10\n",
       "3                  BVI               LABUA       5\n",
       "4                  BVI               MALAY       4\n",
       "5                  BVI               MAURI       2\n",
       "6                  BVI                 SGP       9\n",
       "7                CAYMN                 XXX      84\n",
       "8                 COOK                 BVI      10\n",
       "9                 COOK                COOK     201\n",
       "10                COOK                  HK       1\n",
       "11                COOK                 SAM       3\n",
       "12                COOK                 SGP       1\n",
       "13                  HK                COOK       1\n",
       "14               LABUA                 BVI       5\n",
       "15               MALAY                 BVI       4\n",
       "16               MAURI                 BVI       2\n",
       "17                 SAM                COOK       3\n",
       "18                 SAM                 SAM       4\n",
       "19                 SAM                 SGP       4\n",
       "20                 SAM                 XXX       1\n",
       "21                 SGP                 BVI       9\n",
       "22                 SGP                COOK       1\n",
       "23                 SGP                 SAM       4\n",
       "24                 SGP                 SGP      10\n",
       "25                STLU                 BVI       1\n",
       "26                 XXX               BERMU       1\n",
       "27                 XXX               CAYMN      84\n",
       "28                 XXX                 SAM       1"
      ]
     },
     "execution_count": 60,
     "metadata": {},
     "output_type": "execute_result"
    }
   ],
   "source": [
    "df1"
   ]
  },
  {
   "cell_type": "code",
   "execution_count": 1,
   "id": "9a0aca64-ea68-477f-b532-bd3cc98a9d73",
   "metadata": {},
   "outputs": [],
   "source": [
    "import graphviz"
   ]
  },
  {
   "cell_type": "code",
   "execution_count": 58,
   "id": "4e1e5e15-cfab-4163-9eba-9806ac4eae0a",
   "metadata": {},
   "outputs": [],
   "source": [
    "#!conda install -c anaconda graphviz -y\n",
    "#!conda install -c anaconda pydot -y\n",
    "#!conda install -c anaconda openpyxl -y"
   ]
  },
  {
   "cell_type": "code",
   "execution_count": 10,
   "id": "660fb7d3-92cb-4d6a-8b17-43d787d4a042",
   "metadata": {},
   "outputs": [
    {
     "name": "stdout",
     "output_type": "stream",
     "text": [
      "\u001b[31mcompany_type.edgelist\u001b[m\u001b[m*             \u001b[31mjurisdiction.edgelist\u001b[m\u001b[m*\n",
      "\u001b[31mcontinents.edgelist\u001b[m\u001b[m*               \u001b[31mjurisdiction_description.edgelist\u001b[m\u001b[m*\n",
      "\u001b[31mcountries.edgelist\u001b[m\u001b[m*                \u001b[31mnode_id.edgelist\u001b[m\u001b[m*\n",
      "\u001b[31mcountry_codes.edgelist\u001b[m\u001b[m*            \u001b[31mtable.edgelist\u001b[m\u001b[m*\n"
     ]
    }
   ],
   "source": [
    "ls ../data/clean/graphs"
   ]
  },
  {
   "cell_type": "code",
   "execution_count": 18,
   "id": "435a253a-31f5-4def-b286-905dc7249380",
   "metadata": {},
   "outputs": [],
   "source": [
    "import networkx as nx\n",
    "\n",
    "url = 'https://drive.google.com/file/d/10eXidO511doY2M7dLQMZE00lGSVu_Vez/view?usp=sharing'\n",
    "get_url = lambda u: 'https://drive.google.com/uc?export=download&id=' + u.split('/')[-2]\n",
    "\n",
    "df = pd.read_csv(get_url(url))"
   ]
  },
  {
   "cell_type": "code",
   "execution_count": 19,
   "id": "fd63fd27-0853-4d5b-b756-726973d410db",
   "metadata": {},
   "outputs": [],
   "source": [
    "import networkx as nx\n",
    "G = nx.DiGraph()\n",
    "G.add_weighted_edges_from([tuple(x) for x in df.values])"
   ]
  },
  {
   "cell_type": "code",
   "execution_count": 20,
   "id": "b1bab4c3-b2c6-4299-a9f8-7f39f2ba8cac",
   "metadata": {},
   "outputs": [
    {
     "data": {
      "text/plain": [
       "<networkx.classes.digraph.DiGraph at 0x7f95cfb45d90>"
      ]
     },
     "execution_count": 20,
     "metadata": {},
     "output_type": "execute_result"
    }
   ],
   "source": [
    "G"
   ]
  },
  {
   "cell_type": "code",
   "execution_count": 32,
   "id": "96c32d0b-af9d-49a4-bf25-0eac9c873891",
   "metadata": {},
   "outputs": [
    {
     "data": {
      "image/png": "[encoded data removed]",
      "text/plain": [
       "<Figure size 432x288 with 1 Axes>"
      ]
     },
     "metadata": {},
     "output_type": "display_data"
    }
   ],
   "source": [
    "pos = nx.nx_pydot.graphviz_layout(G)\n",
    "pos = nx.nx_pydot.graphviz_layout(G, prog=\"dot\")\n",
    "nx.draw(G, pos)"
   ]
  },
  {
   "cell_type": "raw",
   "id": "382327fc-24b5-4194-b46d-b7ba16d767d2",
   "metadata": {},
   "source": []
  },
  {
   "cell_type": "code",
   "execution_count": null,
   "id": "a9b03e43-351b-493b-ac5a-dc8ba9eee9b2",
   "metadata": {},
   "outputs": [],
   "source": []
  }
 ],
 "metadata": {
  "kernelspec": {
   "display_name": "Python 3 (ipykernel)",
   "language": "python",
   "name": "python3"
  },
  "language_info": {
   "codemirror_mode": {
    "name": "ipython",
    "version": 3
   },
   "file_extension": ".py",
   "mimetype": "text/x-python",
   "name": "python",
   "nbconvert_exporter": "python",
   "pygments_lexer": "ipython3",
   "version": "3.8.11"
  }
 },
 "nbformat": 4,
 "nbformat_minor": 5
}
