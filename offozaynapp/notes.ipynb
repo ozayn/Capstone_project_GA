{
 "cells": [
  {
   "cell_type": "markdown",
   "id": "1287a76b-2787-473f-986a-578cd972c1e0",
   "metadata": {},
   "source": [
    "```\n",
    "streamlit run your_script.py [-- script args]\n",
    "```"
   ]
  },
  {
   "cell_type": "raw",
   "id": "8bd1e2af-c673-498e-892e-8e0b5503465b",
   "metadata": {},
   "source": [
    "!streamlit run https://raw.githubusercontent.com/streamlit/demo-uber-nyc-pickups/master/streamlit_app.py"
   ]
  },
  {
   "cell_type": "code",
   "execution_count": 52,
   "id": "35e24b57-e75d-43f2-8b4e-83ac003015da",
   "metadata": {},
   "outputs": [
    {
     "name": "stdout",
     "output_type": "stream",
     "text": [
      "Overwriting offozaynapp/main.py\n"
     ]
    }
   ],
   "source": [
    "%%writefile offozaynapp/main.py\n",
    "\n",
    "import streamlit as st\n",
    "import pandas as pd\n",
    "import numpy as np\n",
    "\n",
    "st.title('Offshore Leaks')\n",
    "\n",
    "\n",
    "DATE_COLUMN = 'date/time'\n",
    "DATA_URL = ('https://s3-us-west-2.amazonaws.com/'\n",
    "         'streamlit-demo-data/uber-raw-data-sep14.csv.gz')\n",
    "\n",
    "@st.cache\n",
    "def load_data(nrows):\n",
    "    data = pd.read_csv(DATA_URL, nrows=nrows)\n",
    "    lowercase = lambda x: str(x).lower()\n",
    "    data.rename(lowercase, axis='columns', inplace=True)\n",
    "    data[DATE_COLUMN] = pd.to_datetime(data[DATE_COLUMN])\n",
    "    return data\n",
    "\n",
    "\n",
    "# Create a text element and let the reader know the data is loading.\n",
    "data_load_state = st.text('Loading data...')\n",
    "# Load 10,000 rows of data into the dataframe.\n",
    "data = load_data(10000)\n",
    "# Notify the reader that the data was successfully loaded.\n",
    "#data_load_state.text('Loading data...done!')\n",
    "data_load_state.text(\"Done! (using st.cache)\")\n",
    "\n",
    "if st.checkbox('Show raw data'):\n",
    "    st.subheader('Raw data')\n",
    "    st.write(data.head())\n",
    "\n",
    "st.subheader('Number of pickups by hour')\n",
    "\n",
    "hist_values = np.histogram(\n",
    "    data[DATE_COLUMN].dt.hour, bins=24, range=(0,24))[0]\n",
    "\n",
    "st.write(hist_values)\n",
    "\n",
    "st.bar_chart(hist_values)\n",
    "\n",
    "st.subheader('Map of all pickups')\n",
    "\n",
    "st.map(data)\n",
    "\n",
    "hour_to_filter = 17\n",
    "filtered_data = data[data[DATE_COLUMN].dt.hour == hour_to_filter]\n",
    "st.subheader(f'Map of all pickups at {hour_to_filter}:00')\n",
    "st.map(filtered_data)\n",
    "\n",
    "hour_to_filter = st.slider('hour', 0, 23, 17)  # min: 0h, max: 23h, default: 17h"
   ]
  },
  {
   "cell_type": "code",
   "execution_count": 55,
   "id": "e2b6a00c-0cfd-4111-a267-b2c65b672de4",
   "metadata": {},
   "outputs": [
    {
     "name": "stdout",
     "output_type": "stream",
     "text": [
      "Overwriting offozaynapp/main.py\n"
     ]
    }
   ],
   "source": [
    "%%writefile offozaynapp/main.py\n",
    "\n",
    "import streamlit as st\n",
    "import pandas as pd\n",
    "import numpy as np\n",
    "\n",
    "st.title('Offshore Leaks')\n",
    "\n",
    "\n",
    "DATA_LAT_LON = ('https://drive.google.com/file/d/10l-06L2waxvG6pKbCwuX1wtPtrPjgPO4/view?usp=sharing')\n",
    "\n",
    "JURISDICTION_DATA_URL = ('https://drive.google.com/file/d/10eXidO511doY2M7dLQMZE00lGSVu_Vez/view?usp=sharing')\n",
    "\n",
    "# Taken with modification from\n",
    "# https://newbedev.com/pandas-how-to-read-csv-file-from-google-drive-public\"\"\"\n",
    "get_url = lambda u: 'https://drive.google.com/uc?export=download&id=' + u.split('/')[-2]\n",
    "    \n",
    "    \n",
    "\n",
    "@st.cache\n",
    "def load_data(url, nrows):\n",
    "    data = pd.read_csv(get_url(url), nrows=nrows) \n",
    "    return data\n",
    "\n",
    "\n",
    "# Create a text element and let the reader know the data is loading.\n",
    "data_load_state = st.text('Loading data...')\n",
    "# Load 10,000 rows of data into the dataframe.\n",
    "data = load_data(JURISDICTION_DATA_URL, 10000)\n",
    "# Notify the reader that the data was successfully loaded.\n",
    "# data_load_state.text('Loading data...done!')\n",
    "data_load_state.text(\"Done! (using st.cache)\")\n",
    "\n",
    "data_load_state = st.text('Loading data...')\n",
    "# Load 10,000 rows of data into the dataframe.\n",
    "lat_lon_data = load_data(DATA_LAT_LON, 10000)\n",
    "# Notify the reader that the data was successfully loaded.\n",
    "# data_load_state.text('Loading data...done!')\n",
    "data_load_state.text(\"Done! (using st.cache)\")\n",
    "\n",
    "if st.checkbox('Show raw data'):\n",
    "    st.subheader('Raw data')\n",
    "    st.write(data.head())\n",
    "    st.subheader('Jurisdiction Source')\n",
    "    hist_values = data['jurisdiction_source'].value_counts().sort_values()\n",
    "    st.bar_chart(hist_values)\n",
    "    \n",
    "if st.checkbox('Show Latitude & Longitude data'):\n",
    "    st.subheader('Raw data')\n",
    "    st.write(lat_lon_data.head())\n",
    "    st.map(lat_lon_data)\n"
   ]
  },
  {
   "cell_type": "code",
   "execution_count": 27,
   "id": "23d0038f-ed57-426f-96f0-57cf2f453b15",
   "metadata": {},
   "outputs": [
    {
     "data": {
      "text/html": [
       "<div>\n",
       "<style scoped>\n",
       "    .dataframe tbody tr th:only-of-type {\n",
       "        vertical-align: middle;\n",
       "    }\n",
       "\n",
       "    .dataframe tbody tr th {\n",
       "        vertical-align: top;\n",
       "    }\n",
       "\n",
       "    .dataframe thead th {\n",
       "        text-align: right;\n",
       "    }\n",
       "</style>\n",
       "<table border=\"1\" class=\"dataframe\">\n",
       "  <thead>\n",
       "    <tr style=\"text-align: right;\">\n",
       "      <th></th>\n",
       "      <th>jurisdiction_source</th>\n",
       "      <th>jurisdiction_target</th>\n",
       "      <th>weight</th>\n",
       "    </tr>\n",
       "  </thead>\n",
       "  <tbody>\n",
       "    <tr>\n",
       "      <th>0</th>\n",
       "      <td>BERMU</td>\n",
       "      <td>XXX</td>\n",
       "      <td>1</td>\n",
       "    </tr>\n",
       "    <tr>\n",
       "      <th>1</th>\n",
       "      <td>BVI</td>\n",
       "      <td>BVI</td>\n",
       "      <td>156</td>\n",
       "    </tr>\n",
       "    <tr>\n",
       "      <th>2</th>\n",
       "      <td>BVI</td>\n",
       "      <td>COOK</td>\n",
       "      <td>10</td>\n",
       "    </tr>\n",
       "    <tr>\n",
       "      <th>3</th>\n",
       "      <td>BVI</td>\n",
       "      <td>LABUA</td>\n",
       "      <td>5</td>\n",
       "    </tr>\n",
       "    <tr>\n",
       "      <th>4</th>\n",
       "      <td>BVI</td>\n",
       "      <td>MALAY</td>\n",
       "      <td>4</td>\n",
       "    </tr>\n",
       "  </tbody>\n",
       "</table>\n",
       "</div>"
      ],
      "text/plain": [
       "  jurisdiction_source jurisdiction_target  weight\n",
       "0               BERMU                 XXX       1\n",
       "1                 BVI                 BVI     156\n",
       "2                 BVI                COOK      10\n",
       "3                 BVI               LABUA       5\n",
       "4                 BVI               MALAY       4"
      ]
     },
     "execution_count": 27,
     "metadata": {},
     "output_type": "execute_result"
    }
   ],
   "source": [
    "import pandas as pd\n",
    "\n",
    "\n",
    "orig_url = 'https://drive.google.com/file/d/10eXidO511doY2M7dLQMZE00lGSVu_Vez/view?usp=sharing'\n",
    "file_id = orig_url.split('/')[-2]\n",
    "dwn_url='https://drive.google.com/uc?export=download&id=' + file_id\n",
    "\n",
    "data = pd.read_csv(dwn_url)\n",
    "data.head()"
   ]
  },
  {
   "cell_type": "code",
   "execution_count": 31,
   "id": "e9095313-3552-4a59-951d-7459ea5f90b4",
   "metadata": {},
   "outputs": [
    {
     "ename": "NameError",
     "evalue": "name 'DATE_COLUMN' is not defined",
     "output_type": "error",
     "traceback": [
      "\u001b[0;31m---------------------------------------------------------------------------\u001b[0m",
      "\u001b[0;31mNameError\u001b[0m                                 Traceback (most recent call last)",
      "\u001b[0;32m/var/folders/pb/ky8pp8jx47lg6j6gkt8q6py80000gn/T/ipykernel_13527/3776555663.py\u001b[0m in \u001b[0;36m<module>\u001b[0;34m\u001b[0m\n\u001b[1;32m      1\u001b[0m \u001b[0;32mimport\u001b[0m \u001b[0mnumpy\u001b[0m \u001b[0;32mas\u001b[0m \u001b[0mnp\u001b[0m\u001b[0;34m\u001b[0m\u001b[0;34m\u001b[0m\u001b[0m\n\u001b[1;32m      2\u001b[0m hist_values = np.histogram(\n\u001b[0;32m----> 3\u001b[0;31m     data[DATE_COLUMN].dt.hour, bins=24, range=(0,24))[0]\n\u001b[0m\u001b[1;32m      4\u001b[0m \u001b[0;34m\u001b[0m\u001b[0m\n\u001b[1;32m      5\u001b[0m \u001b[0mst\u001b[0m\u001b[0;34m.\u001b[0m\u001b[0mbar_chart\u001b[0m\u001b[0;34m(\u001b[0m\u001b[0mhist_values\u001b[0m\u001b[0;34m)\u001b[0m\u001b[0;34m\u001b[0m\u001b[0;34m\u001b[0m\u001b[0m\n",
      "\u001b[0;31mNameError\u001b[0m: name 'DATE_COLUMN' is not defined"
     ]
    }
   ],
   "source": [
    "import numpy as np\n",
    "hist_values = np.histogram(\n",
    "    data[DATE_COLUMN].dt.hour, bins=24, range=(0,24))[0]\n",
    "\n",
    "st.bar_chart(hist_values)"
   ]
  },
  {
   "cell_type": "code",
   "execution_count": 30,
   "id": "c9bf1cb2-0c61-426b-bd5f-7029d71560c3",
   "metadata": {},
   "outputs": [
    {
     "data": {
      "text/plain": [
       "BVI      6\n",
       "COOK     5\n",
       "SAM      4\n",
       "SGP      4\n",
       "XXX      3\n",
       "BERMU    1\n",
       "CAYMN    1\n",
       "HK       1\n",
       "LABUA    1\n",
       "MALAY    1\n",
       "MAURI    1\n",
       "STLU     1\n",
       "Name: jurisdiction_source, dtype: int64"
      ]
     },
     "execution_count": 30,
     "metadata": {},
     "output_type": "execute_result"
    }
   ],
   "source": [
    "data['jurisdiction_source'].value_counts()"
   ]
  },
  {
   "cell_type": "code",
   "execution_count": null,
   "id": "9a0aca64-ea68-477f-b532-bd3cc98a9d73",
   "metadata": {},
   "outputs": [],
   "source": []
  }
 ],
 "metadata": {
  "kernelspec": {
   "display_name": "Python 3 (ipykernel)",
   "language": "python",
   "name": "python3"
  },
  "language_info": {
   "codemirror_mode": {
    "name": "ipython",
    "version": 3
   },
   "file_extension": ".py",
   "mimetype": "text/x-python",
   "name": "python",
   "nbconvert_exporter": "python",
   "pygments_lexer": "ipython3",
   "version": "3.8.11"
  }
 },
 "nbformat": 4,
 "nbformat_minor": 5
}
